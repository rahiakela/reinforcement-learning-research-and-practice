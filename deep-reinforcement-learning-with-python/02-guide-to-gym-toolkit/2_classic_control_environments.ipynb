{
  "nbformat": 4,
  "nbformat_minor": 0,
  "metadata": {
    "colab": {
      "name": "2-classic-control-environments.ipynb",
      "provenance": [],
      "toc_visible": true,
      "authorship_tag": "ABX9TyPZxiuiKaArmSBcKN2Ot3zS",
      "include_colab_link": true
    },
    "kernelspec": {
      "name": "python3",
      "display_name": "Python 3"
    },
    "language_info": {
      "name": "python"
    }
  },
  "cells": [
    {
      "cell_type": "markdown",
      "metadata": {
        "id": "view-in-github",
        "colab_type": "text"
      },
      "source": [
        "<a href=\"https://colab.research.google.com/github/rahiakela/deep-reinforcement-learning-with-python/blob/main/02-guide-to-gym-toolkit/2_classic_control_environments.ipynb\" target=\"_parent\"><img src=\"https://colab.research.google.com/assets/colab-badge.svg\" alt=\"Open In Colab\"/></a>"
      ]
    },
    {
      "cell_type": "markdown",
      "metadata": {
        "id": "MzNcOo9b63V1"
      },
      "source": [
        "##Classic control environments"
      ]
    },
    {
      "cell_type": "markdown",
      "metadata": {
        "id": "2wYRFIbi64GF"
      },
      "source": [
        "The gym provides environments for several classic control tasks such as cart pole balancing, swinging up the pendulum, mountain car climbing and so on. Let's understand how to create a gym environment for a cart pole balancing task. The cart pole environment is shown below:\n",
        "\n",
        "\n",
        "<img src='https://github.com/rahiakela/img-repo/blob/master/deep-reinforcement-learning-with-python/17.PNG?raw=1'/>\n",
        "\n",
        "Cart Pole balancing is one of the classical control problems. As shown in the above figure, the pole is attached to the cart and the goal of our agent is to balance the pole on the cart, that is, the goal of our agent is to keep the pole straight up standing on the cart as shown below:\n",
        "\n",
        "<img src='https://github.com/rahiakela/img-repo/blob/master/deep-reinforcement-learning-with-python/18.PNG?raw=1'/>\n",
        "\n",
        "\n",
        "So the agent tries to push the cart left and right to keep the pole standing straight on the cart. Thus our agent performs two actions which are pushing the cart to the left and pushing the cart to the right to keep the pole standing straight on the cart. You can also check this very interesting video https://youtu.be/qMlcsc43-lg which shows how the RL agent balances the pole on the cart by moving the cart left and right. \n",
        "\n",
        "Now, let's learn how to create the cart pole environment using the gym. The environment id of the cart pole environment in the gym is `CartPole-v0` , so we can just use our `make` function to create the cart pole environment as shown below:\n",
        "\n",
        "\n",
        "Reference:\n",
        "\n",
        "- https://colab.research.google.com/github/jeffheaton/t81_558_deep_learning/blob/master/t81_558_class_12_01_ai_gym.ipynb\n",
        "\n",
        "- https://medium.com/analytics-vidhya/rendering-openai-gym-environments-in-google-colab-9df4e7d6f99f\n",
        "\n",
        "- https://www.toptal.com/machine-learning/deep-dive-into-reinforcement-learning\n"
      ]
    },
    {
      "cell_type": "markdown",
      "metadata": {
        "id": "wB_EPYRJCL-Q"
      },
      "source": [
        "## Setup"
      ]
    },
    {
      "cell_type": "markdown",
      "metadata": {
        "id": "eRkY66kn3jZX"
      },
      "source": [
        "**Render OpenAI Gym Environments in CoLab**"
      ]
    },
    {
      "cell_type": "markdown",
      "metadata": {
        "id": "Owxty_FJ9MH8"
      },
      "source": [
        "It is possible to visualize the game your agent is playing, even on CoLab.  This section provides information on how to generate a video in CoLab that shows you an episode of the game your agent is playing. This video process is based on suggestions found [here](https://colab.research.google.com/drive/1flu31ulJlgiRL1dnN2ir8wGh9p7Zij2t).\n",
        "\n",
        "Begin by installing **pyvirtualdisplay** and **python-opengl**."
      ]
    },
    {
      "cell_type": "code",
      "metadata": {
        "id": "1pGBkJkP3tss"
      },
      "source": [
        "!pip install gym pyvirtualdisplay > /dev/null 2>&1\n",
        "!apt-get install -y xvfb python-opengl ffmpeg > /dev/null 2>&1"
      ],
      "execution_count": 3,
      "outputs": []
    },
    {
      "cell_type": "markdown",
      "metadata": {
        "id": "wosuAMKV3w3I"
      },
      "source": [
        "Next, we install needed requirements to display an Atari game."
      ]
    },
    {
      "cell_type": "code",
      "metadata": {
        "id": "zlFxf3kK3xUF"
      },
      "source": [
        "!apt-get update > /dev/null 2>&1\n",
        "!apt-get install cmake > /dev/null 2>&1\n",
        "!pip install --upgrade setuptools 2>&1\n",
        "!pip install ez_setup > /dev/null 2>&1\n",
        "!pip install gym[atari] > /dev/null 2>&1"
      ],
      "execution_count": null,
      "outputs": []
    },
    {
      "cell_type": "markdown",
      "metadata": {
        "id": "wT8Xpzrr35ka"
      },
      "source": [
        "Next we define functions used to show the video by adding it to the CoLab notebook."
      ]
    },
    {
      "cell_type": "code",
      "metadata": {
        "id": "dHdxX2Xu36Oa"
      },
      "source": [
        "import gym\n",
        "from gym.wrappers import Monitor\n",
        "import glob\n",
        "import io\n",
        "import base64\n",
        "from IPython.display import HTML\n",
        "from pyvirtualdisplay import Display\n",
        "from IPython import display as ipythondisplay\n",
        "\n",
        "display = Display(visible=0, size=(1400, 900))\n",
        "display.start()\n",
        "\n",
        "\"\"\"\n",
        "Utility functions to enable video recording of gym environment \n",
        "and displaying it.\n",
        "To enable video, just do \"env = wrap_env(env)\"\"\n",
        "\"\"\"\n",
        "\n",
        "def show_video():\n",
        "  mp4list = glob.glob('video/*.mp4')\n",
        "  if len(mp4list) > 0:\n",
        "    mp4 = mp4list[0]\n",
        "    video = io.open(mp4, 'r+b').read()\n",
        "    encoded = base64.b64encode(video)\n",
        "    ipythondisplay.display(HTML(data='''<video alt=\"test\" autoplay loop controls style=\"height: 400px;\">\n",
        "                <source src=\"data:video/mp4;base64,{0}\" type=\"video/mp4\" />\n",
        "             </video>'''.format(encoded.decode('ascii'))))\n",
        "  else: \n",
        "    print(\"Could not find video\")\n",
        "    \n",
        "\n",
        "def wrap_env(env):\n",
        "  env = Monitor(env, './video', force=True)\n",
        "  return env"
      ],
      "execution_count": 4,
      "outputs": []
    },
    {
      "cell_type": "markdown",
      "metadata": {
        "id": "UPD1yElU4bOS"
      },
      "source": [
        "The Gym library allows us to query some of these attributes from environments.  I created the following function to query gym environments."
      ]
    },
    {
      "cell_type": "code",
      "metadata": {
        "id": "sIHc9eb99G8e"
      },
      "source": [
        "def query_environment(name):\n",
        "  env = gym.make(name)\n",
        "  spec = gym.spec(name)\n",
        "  print(f\"Action Space: {env.action_space}\")\n",
        "  print(f\"Observation Space: {env.observation_space}\")\n",
        "  print(f\"Max Episode Steps: {spec.max_episode_steps}\")\n",
        "  print(f\"Nondeterministic: {spec.nondeterministic}\")\n",
        "  print(f\"Reward Range: {env.reward_range}\")\n",
        "  print(f\"Reward Threshold: {spec.reward_threshold}\")"
      ],
      "execution_count": 5,
      "outputs": []
    },
    {
      "cell_type": "code",
      "metadata": {
        "id": "d6ly4Xqp4hyK",
        "outputId": "660518e3-e3ba-4553-d67b-47ce8f1f522b",
        "colab": {
          "base_uri": "https://localhost:8080/"
        }
      },
      "source": [
        "query_environment(\"CartPole-v0\")"
      ],
      "execution_count": 6,
      "outputs": [
        {
          "output_type": "stream",
          "text": [
            "Action Space: Discrete(2)\n",
            "Observation Space: Box(-3.4028234663852886e+38, 3.4028234663852886e+38, (4,), float32)\n",
            "Max Episode Steps: 200\n",
            "Nondeterministic: False\n",
            "Reward Range: (-inf, inf)\n",
            "Reward Threshold: 195.0\n"
          ],
          "name": "stdout"
        }
      ]
    },
    {
      "cell_type": "markdown",
      "metadata": {
        "id": "jOFrwSLrDQGP"
      },
      "source": [
        "Now we are ready to play the game.  We use a simple random agent."
      ]
    },
    {
      "cell_type": "code",
      "metadata": {
        "id": "AAc4B1PVDQmh",
        "outputId": "116beee0-c974-486d-8eda-d0299c075a48",
        "colab": {
          "base_uri": "https://localhost:8080/",
          "height": 421
        }
      },
      "source": [
        "env = wrap_env(gym.make(\"CartPole-v0\"))\n",
        "\n",
        "observation = env.reset()\n",
        "\n",
        "while True:\n",
        "  \n",
        "    env.render()\n",
        "    \n",
        "    #your agent goes here\n",
        "    action = env.action_space.sample() \n",
        "         \n",
        "    observation, reward, done, info = env.step(action) \n",
        "   \n",
        "        \n",
        "    if done: \n",
        "      break;\n",
        "            \n",
        "env.close()\n",
        "show_video()"
      ],
      "execution_count": 7,
      "outputs": [
        {
          "output_type": "display_data",
          "data": {
            "text/html": [
              "<video alt=\"test\" autoplay loop controls style=\"height: 400px;\">\n",
              "                <source src=\"data:video/mp4;base64,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\" type=\"video/mp4\" />\n",
              "             </video>"
            ],
            "text/plain": [
              "<IPython.core.display.HTML object>"
            ]
          },
          "metadata": {
            "tags": []
          }
        }
      ]
    },
    {
      "cell_type": "markdown",
      "metadata": {
        "id": "HzDZ-wkH-HQW"
      },
      "source": [
        "We can also close rendering the environment using the `close` function:"
      ]
    },
    {
      "cell_type": "code",
      "metadata": {
        "id": "Ym9fZGgb9dxO"
      },
      "source": [
        "env.close()"
      ],
      "execution_count": 8,
      "outputs": []
    },
    {
      "cell_type": "markdown",
      "metadata": {
        "id": "8XaeI9Ny5BmO"
      },
      "source": [
        "## State space"
      ]
    },
    {
      "cell_type": "markdown",
      "metadata": {
        "id": "b4mkONu35Cac"
      },
      "source": [
        "Now, let's look at the state space of our cart pole environment. Wait! What are the states here? In the frozen lake environment we had discrete 16 states from (S to G). But how can we describe the states here? Can we describe the state by cart position? Yes! Note that the cart position is a continuous value. So, in this case, our state space will be continuous values, unlike the frozen lake environment where our state space had discrete values (S to G).\n",
        "\n",
        "But with just the cart position alone we cannot describe the state of the environment completely. So we include cart velocity, pole angle and pole velocity at the tip. So we can describe our state space by an array of values as shown below:\n",
        "\n",
        "`array([cart position, cart velocity, pole angle, pole velocity at the tip])`\n",
        "\n",
        "Note that all of these values are continuous, that is:\n",
        "\n",
        "* The value of cart position ranges from -4.8 to 4.8\n",
        "* The value of cart velocity ranges from -Inf to Inf\n",
        "* The value of pole angle ranges from -0.418 radians to 0.418 radians \n",
        "* The value of pole velocity city at the tip ranges from -Inf to Inf\n",
        "\n",
        "Thus, our state space contains an array of continuous values. Let's learn how can we obtain this from the gym. In order to get the state space, we can just type `env.observation_space` as shown below:"
      ]
    },
    {
      "cell_type": "code",
      "metadata": {
        "id": "MRsQkcIM6zC9",
        "outputId": "0afba90f-785b-4982-e8e6-2ebfd5157915",
        "colab": {
          "base_uri": "https://localhost:8080/"
        }
      },
      "source": [
        "print(env.observation_space)"
      ],
      "execution_count": 9,
      "outputs": [
        {
          "output_type": "stream",
          "text": [
            "Box(-3.4028234663852886e+38, 3.4028234663852886e+38, (4,), float32)\n"
          ],
          "name": "stdout"
        }
      ]
    },
    {
      "cell_type": "markdown",
      "metadata": {
        "id": "qPsNUKPb7E80"
      },
      "source": [
        "Box implies that our state space consists of continuous values and not discrete values. That is, in the frozen lake environment, we obtained the state space as `Discrete(16)` which implies that we have 16 discrete states (S to G). But now we got our state space as `Box(4,)` which implies that our state space is continuous and consists of an array of 4 values.\n",
        "\n",
        "For example, let's reset our environment and see how our initial state space will look like. We can reset the environment using the `reset` function:\n",
        "\n"
      ]
    },
    {
      "cell_type": "code",
      "metadata": {
        "id": "jDd9SSSI62QQ",
        "outputId": "be8a9e3b-fc6d-495b-e1fb-a237dc780cda",
        "colab": {
          "base_uri": "https://localhost:8080/"
        }
      },
      "source": [
        "print(env.reset())"
      ],
      "execution_count": 10,
      "outputs": [
        {
          "output_type": "stream",
          "text": [
            "[-0.01983735  0.04149103 -0.04353716  0.04083448]\n"
          ],
          "name": "stdout"
        }
      ]
    },
    {
      "cell_type": "markdown",
      "metadata": {
        "id": "P2M4mo677SRx"
      },
      "source": [
        "It implies our initial state space, as we can notice, we have an array of 4 values which denotes the cart position, cart velocity, pole angle and pole velocity at the tip respectively. That is:\n",
        "\n",
        "<img src='https://github.com/rahiakela/img-repo/blob/master/deep-reinforcement-learning-with-python/19.PNG?raw=1'/>\n",
        "\n",
        "Okay, how can we obtain the maximum and minimum values of our state space? We can obtain the maximum values of our state space using `env.observation_space.high` and the minimum values of our state space using `env.observation_space.low`\n",
        "\n",
        "For example, let's look at the maximum value of our state space:"
      ]
    },
    {
      "cell_type": "code",
      "metadata": {
        "id": "FPjoYeV77J2o",
        "outputId": "94f6814b-ab6c-4130-e0c4-38ec47b3b0a0",
        "colab": {
          "base_uri": "https://localhost:8080/"
        }
      },
      "source": [
        "print(env.observation_space.high)"
      ],
      "execution_count": 11,
      "outputs": [
        {
          "output_type": "stream",
          "text": [
            "[4.8000002e+00 3.4028235e+38 4.1887903e-01 3.4028235e+38]\n"
          ],
          "name": "stdout"
        }
      ]
    },
    {
      "cell_type": "markdown",
      "metadata": {
        "id": "njZUmI_M8CBa"
      },
      "source": [
        "It implies that:\n",
        "\n",
        "1. The maximum value of the cart position is 4.8\n",
        "2. We learned that the maximum value of cart velocity is  +Inf, we know that infinity is not really a number, so it is represented using the largest positive real value 3.4028235e+38.\n",
        "3. The maximum value of the pole angle is 0.418 radians.\n",
        "4. The maximum value of pole velocity at the tip is +Inf, so it is represented using largest positive real value 3.4028235e+38\n",
        "\n",
        "Similarly, we can obtain the minimum value of our state space as:"
      ]
    },
    {
      "cell_type": "code",
      "metadata": {
        "id": "783ZBZK37-n6",
        "outputId": "d69b9e9f-3b6c-4347-d451-2da4d79398ad",
        "colab": {
          "base_uri": "https://localhost:8080/"
        }
      },
      "source": [
        "print(env.observation_space.low)"
      ],
      "execution_count": 12,
      "outputs": [
        {
          "output_type": "stream",
          "text": [
            "[-4.8000002e+00 -3.4028235e+38 -4.1887903e-01 -3.4028235e+38]\n"
          ],
          "name": "stdout"
        }
      ]
    },
    {
      "cell_type": "markdown",
      "metadata": {
        "id": "qt8f-Y1o8TQ4"
      },
      "source": [
        "## Action space"
      ]
    },
    {
      "cell_type": "markdown",
      "metadata": {
        "id": "GlEmbmwk8TtD"
      },
      "source": [
        "Now, let's look at the action space. We already learned that in the cart pole environment we perform two actions which are pushing the cart to the left and pushing the cart to the right and thus action space is discrete since we have only two discrete actions.\n",
        "\n",
        "In order to get the action space, we can just type `env.action_space` as shown below:"
      ]
    },
    {
      "cell_type": "code",
      "metadata": {
        "id": "3g2yEpV_8Nx8",
        "outputId": "6d9ab628-f74e-4ab7-d331-637b9fbeb19e",
        "colab": {
          "base_uri": "https://localhost:8080/"
        }
      },
      "source": [
        "print(env.action_space)"
      ],
      "execution_count": 13,
      "outputs": [
        {
          "output_type": "stream",
          "text": [
            "Discrete(2)\n"
          ],
          "name": "stdout"
        }
      ]
    },
    {
      "cell_type": "markdown",
      "metadata": {
        "id": "FbStKQmZ86eY"
      },
      "source": [
        "As we can observe `Discrete(2)` implies that our action space is discrete and we have two actions in our action space. Note that the actions will be encoded into numbers as shown below:\n",
        "\n",
        "<img src='https://github.com/rahiakela/img-repo/blob/master/deep-reinforcement-learning-with-python/20.PNG?raw=1'/>"
      ]
    },
    {
      "cell_type": "markdown",
      "metadata": {
        "id": "9_M6mQPh9d4P"
      },
      "source": [
        "## Cart Pole Balancing with Random Policy"
      ]
    },
    {
      "cell_type": "markdown",
      "metadata": {
        "id": "0GXYX4nV9fDP"
      },
      "source": [
        "Let's create an agent with the random policy, that is, we create the agent that selects the random action in the environment and tries to balance the pole. The agent receives +1 reward every time the pole stands straight up on the cart. We will generate over 100 episodes and we will see the return (sum of rewards) obtained over each episode. Let's learn this step by step.\n",
        "\n",
        "Set the number of episodes and number of time steps in the episode:"
      ]
    },
    {
      "cell_type": "code",
      "metadata": {
        "id": "M5GI3AKq9x5i"
      },
      "source": [
        "num_episodes = 100\n",
        "num_timesteps = 50"
      ],
      "execution_count": 14,
      "outputs": []
    },
    {
      "cell_type": "code",
      "metadata": {
        "id": "7PlRUXu_-j1a",
        "outputId": "b45807f6-9a8f-4919-f42c-d886315a5c32",
        "colab": {
          "base_uri": "https://localhost:8080/"
        }
      },
      "source": [
        "# for each episode\n",
        "for i in range(num_episodes):\n",
        "  # set the Return to 0\n",
        "  return_val = 0\n",
        "  # initialize the state by resetting the environment\n",
        "  state = env.reset()\n",
        "\n",
        "  # for each step in the episode\n",
        "  for t in range(num_timesteps):\n",
        "    # render the environment\n",
        "    env.render()\n",
        "\n",
        "    # randomly select an action by sampling from the environment\n",
        "    random_action = env.action_space.sample()\n",
        "\n",
        "    # perform the randomly selected action\n",
        "    next_state, reward, done, info = env.step(random_action)\n",
        "\n",
        "    # update the return\n",
        "    return_val = return_val + reward\n",
        "\n",
        "    # if the next state is a terminal state then end the episode\n",
        "    if done:\n",
        "      break\n",
        "\n",
        "  # for every 10 episodes, print the return (sum of rewards)\n",
        "  if i % 10 == 0:\n",
        "    print(\"Episode: {}, Return: {}\".format(i, return_val))"
      ],
      "execution_count": 15,
      "outputs": [
        {
          "output_type": "stream",
          "text": [
            "Episode: 0, Return: 18.0\n",
            "Episode: 10, Return: 21.0\n",
            "Episode: 20, Return: 35.0\n",
            "Episode: 30, Return: 10.0\n",
            "Episode: 40, Return: 13.0\n",
            "Episode: 50, Return: 37.0\n",
            "Episode: 60, Return: 11.0\n",
            "Episode: 70, Return: 29.0\n",
            "Episode: 80, Return: 28.0\n",
            "Episode: 90, Return: 21.0\n"
          ],
          "name": "stdout"
        }
      ]
    },
    {
      "cell_type": "code",
      "metadata": {
        "id": "GCw1Hl3NAmUX"
      },
      "source": [
        "# Close the environment:\n",
        "env.close()"
      ],
      "execution_count": 16,
      "outputs": []
    },
    {
      "cell_type": "code",
      "metadata": {
        "id": "AW2l31X1A8jk",
        "outputId": "64bb5ef1-e307-4a04-d3f2-9cbd0f38af1c",
        "colab": {
          "base_uri": "https://localhost:8080/",
          "height": 421
        }
      },
      "source": [
        "# check the pole\n",
        "show_video()"
      ],
      "execution_count": 17,
      "outputs": [
        {
          "output_type": "display_data",
          "data": {
            "text/html": [
              "<video alt=\"test\" autoplay loop controls style=\"height: 400px;\">\n",
              "                <source src=\"data:video/mp4;base64,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\" type=\"video/mp4\" />\n",
              "             </video>"
            ],
            "text/plain": [
              "<IPython.core.display.HTML object>"
            ]
          },
          "metadata": {
            "tags": []
          }
        }
      ]
    },
    {
      "cell_type": "markdown",
      "metadata": {
        "id": "kb3OXSydBxKD"
      },
      "source": [
        "## Mountain Car environment"
      ]
    },
    {
      "cell_type": "markdown",
      "metadata": {
        "id": "MY9jfubbBxWV"
      },
      "source": [
        " We don’t need to implement the Mountain Car environment ourselves; the OpenAI Gym library provides that implementation. Let’s see a random agent (an agent that takes random actions) in our environment:"
      ]
    },
    {
      "cell_type": "code",
      "metadata": {
        "id": "V_yxL3EnB2BL",
        "outputId": "e27a6154-33db-4dde-d807-ce07bdf1d3c1",
        "colab": {
          "base_uri": "https://localhost:8080/",
          "height": 492
        }
      },
      "source": [
        "env = wrap_env(gym.make(\"MountainCar-v0\"))\n",
        "done = True\n",
        "episode = 0\n",
        "episode_return = 0.0\n",
        "\n",
        "for episode in range(5):\n",
        "   for step in range(200):\n",
        "       if done:\n",
        "           if episode > 0:\n",
        "               print(\"Episode return: \", episode_return)\n",
        "           obs = env.reset()\n",
        "           episode += 1\n",
        "           episode_return = 0.0\n",
        "           env.render()\n",
        "       else:\n",
        "           obs = next_obs\n",
        "       action = env.action_space.sample()\n",
        "       next_obs, reward, done, _ = env.step(action)\n",
        "       episode_return += reward\n",
        "       env.render()\n",
        "\n",
        "env.close()\n",
        "show_video()"
      ],
      "execution_count": 23,
      "outputs": [
        {
          "output_type": "stream",
          "text": [
            "Episode return:  -200.0\n",
            "Episode return:  -200.0\n",
            "Episode return:  -200.0\n",
            "Episode return:  -200.0\n"
          ],
          "name": "stdout"
        },
        {
          "output_type": "display_data",
          "data": {
            "text/html": [
              "<video alt=\"test\" autoplay loop controls style=\"height: 400px;\">\n",
              "                <source src=\"data:video/mp4;base64,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\" type=\"video/mp4\" />\n",
              "             </video>"
            ],
            "text/plain": [
              "<IPython.core.display.HTML object>"
            ]
          },
          "metadata": {
            "tags": []
          }
        }
      ]
    },
    {
      "cell_type": "markdown",
      "metadata": {
        "id": "G6R3vfaDDOD8"
      },
      "source": [
        "Now we need to replace random actions with something better. There are many algorithms one could use. For this, I think an approach called **deep \n",
        "Q-learning** is a good fit."
      ]
    }
  ]
}